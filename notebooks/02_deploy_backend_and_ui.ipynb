{
 "cells": [
  {
   "cell_type": "markdown",
   "id": "df6e888f",
   "metadata": {},
   "source": [
    "\n",
    "# Deployable Backend & Simple UI (Do Not Execute Here)\n",
    "\n",
    "This notebook expects that `models/best_model.joblib` and `models/metadata.json` were created by the previous notebook.\n",
    "It wires up a FastAPI backend and a very simple, clean UI so end users can paste a message and see **Spam** / **Not Spam**.\n",
    "\n",
    "**What this notebook provides:**\n",
    "- Guidance to copy artifacts into the `app/` folder or load from `models/` at runtime.\n",
    "- A FastAPI app (`app/main.py`) exposing `/predict` and a homepage UI.\n",
    "- A minimal CSS for a clean tech look.\n",
    "- Dockerfile + `render.yaml` + `requirements.txt` for Render deployment.\n",
    "- Local run instructions with `uvicorn`.\n",
    "\n",
    "> As requested: This notebook **only provides code** — do not run it here.\n"
   ]
  },
  {
   "cell_type": "code",
   "execution_count": null,
   "id": "ce6b8264",
   "metadata": {},
   "outputs": [],
   "source": [
    "\n",
    "# ✅ Check model artifacts presence (Do Not Execute Here)\n",
    "import os, json\n",
    "from pathlib import Path\n",
    "\n",
    "assert Path(\"models/best_model.joblib\").exists(), \"Run the strategy notebook first to generate the best model.\"\n",
    "assert Path(\"models/metadata.json\").exists(), \"metadata.json missing — generate via the strategy notebook.\"\n",
    "print(\"Artifacts are present.\")\n"
   ]
  },
  {
   "cell_type": "code",
   "execution_count": null,
   "id": "ef040313",
   "metadata": {},
   "outputs": [],
   "source": [
    "\n",
    "# 🧠 Example: Loading the best pipeline for inference (Do Not Execute Here)\n",
    "# This is what the FastAPI app will do under the hood.\n",
    "\n",
    "import joblib\n",
    "import numpy as np\n",
    "\n",
    "pipe = joblib.load(\"models/best_model.joblib\")\n",
    "example_texts = [\"Congratulations, you've won a prize!\", \"Hey, are we still meeting at 5?\"]\n",
    "preds = pipe.predict(example_texts)  # 1=spam, 0=ham\n",
    "print(preds)\n"
   ]
  },
  {
   "cell_type": "code",
   "execution_count": null,
   "id": "fdbd4167",
   "metadata": {},
   "outputs": [],
   "source": [
    "\n",
    "# ▶️ Local run instructions (Do Not Execute Here)\n",
    "# 1) Ensure you have the artifacts: models/best_model.joblib, models/metadata.json\n",
    "# 2) Install deps:  pip install -r requirements.txt\n",
    "# 3) Start server:   uvicorn app.main:app --reload --host 0.0.0.0 --port 8000\n",
    "# 4) Visit: http://localhost:8000\n",
    "#\n",
    "# Render deploy:\n",
    "# - Push repo to GitHub.\n",
    "# - Create new Web Service on Render, auto-detects Dockerfile, or use render.yaml.\n",
    "# - Set environment to Python 3.11+ if possible.\n",
    "# - On deploy, service will boot Uvicorn and serve the UI.\n"
   ]
  }
 ],
 "metadata": {},
 "nbformat": 4,
 "nbformat_minor": 5
}
